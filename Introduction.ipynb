{
  "nbformat": 4,
  "nbformat_minor": 0,
  "metadata": {
    "colab": {
      "provenance": [],
      "authorship_tag": "ABX9TyPtBB4tjVzBa/KMSyQ7M2Ot",
      "include_colab_link": true
    },
    "kernelspec": {
      "name": "python3",
      "display_name": "Python 3"
    },
    "language_info": {
      "name": "python"
    }
  },
  "cells": [
    {
      "cell_type": "markdown",
      "metadata": {
        "id": "view-in-github",
        "colab_type": "text"
      },
      "source": [
        "<a href=\"https://colab.research.google.com/github/Omdena-Bhutan/introduction-assignment-fema46/blob/main/Introduction.ipynb\" target=\"_parent\"><img src=\"https://colab.research.google.com/assets/colab-badge.svg\" alt=\"Open In Colab\"/></a>"
      ]
    },
    {
      "cell_type": "code",
      "execution_count": 1,
      "metadata": {
        "colab": {
          "base_uri": "https://localhost:8080/"
        },
        "id": "HOsolR9sNbxp",
        "outputId": "71d9e2fb-262a-4253-c502-0cc331da93c6"
      },
      "outputs": [
        {
          "output_type": "stream",
          "name": "stdout",
          "text": [
            "hello fema\n"
          ]
        }
      ],
      "source": [
        "print(\"hello fema\")\n"
      ]
    },
    {
      "cell_type": "code",
      "source": [
        "# Integers\n",
        "number = 8"
      ],
      "metadata": {
        "id": "a4iBakoqZ6Nn"
      },
      "execution_count": 3,
      "outputs": []
    },
    {
      "cell_type": "markdown",
      "source": [
        "data type\n",
        "1. Integer\n",
        "2."
      ],
      "metadata": {
        "id": "bFWhrVf3aFEa"
      }
    },
    {
      "cell_type": "code",
      "source": [
        "# Floats - These are decimals\n",
        "number = 8.9"
      ],
      "metadata": {
        "id": "QxukG-uOafec"
      },
      "execution_count": 5,
      "outputs": []
    },
    {
      "cell_type": "code",
      "source": [
        "type(number)\n"
      ],
      "metadata": {
        "colab": {
          "base_uri": "https://localhost:8080/"
        },
        "id": "8znT0gxcapKl",
        "outputId": "fe4dd1cb-dfac-4f43-ef81-81eed48c8a7d"
      },
      "execution_count": 6,
      "outputs": [
        {
          "output_type": "execute_result",
          "data": {
            "text/plain": [
              "float"
            ]
          },
          "metadata": {},
          "execution_count": 6
        }
      ]
    },
    {
      "cell_type": "code",
      "source": [
        "# String - Sequence of characters\n",
        "name = \"Fema\""
      ],
      "metadata": {
        "id": "FsiA_8AnauDP"
      },
      "execution_count": 7,
      "outputs": []
    },
    {
      "cell_type": "code",
      "source": [
        "type(name)"
      ],
      "metadata": {
        "colab": {
          "base_uri": "https://localhost:8080/"
        },
        "id": "HHVAMcvAa-pc",
        "outputId": "839e4596-67d0-4776-c8fe-ee994a442ff0"
      },
      "execution_count": 8,
      "outputs": [
        {
          "output_type": "execute_result",
          "data": {
            "text/plain": [
              "str"
            ]
          },
          "metadata": {},
          "execution_count": 8
        }
      ]
    },
    {
      "cell_type": "code",
      "source": [
        "# Boolean - A logical data type\n",
        "is_student = True"
      ],
      "metadata": {
        "id": "j8_oNpx3bDdk"
      },
      "execution_count": 9,
      "outputs": []
    },
    {
      "cell_type": "code",
      "source": [
        "type(is_student)"
      ],
      "metadata": {
        "colab": {
          "base_uri": "https://localhost:8080/"
        },
        "id": "69zLewD-bNJL",
        "outputId": "d2654a5d-40f7-4691-f891-1beaecfd003f"
      },
      "execution_count": 10,
      "outputs": [
        {
          "output_type": "execute_result",
          "data": {
            "text/plain": [
              "bool"
            ]
          },
          "metadata": {},
          "execution_count": 10
        }
      ]
    }
  ]
}